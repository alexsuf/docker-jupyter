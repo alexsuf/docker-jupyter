{
 "cells": [
  {
   "cell_type": "code",
   "execution_count": 19,
   "id": "e7386467-68f2-449c-b5db-38d6b7c9c3b4",
   "metadata": {
    "tags": []
   },
   "outputs": [],
   "source": [
    "def ann(func):\n",
    "    print('Start function: ', func.__name__)\n",
    "    func()\n",
    "    print('Function: ', type(func))"
   ]
  },
  {
   "cell_type": "code",
   "execution_count": 13,
   "id": "d86db297-b90b-417d-90a0-84adec86efce",
   "metadata": {
    "tags": []
   },
   "outputs": [],
   "source": [
    "def hello():\n",
    "    print('Hello, my friend')"
   ]
  },
  {
   "cell_type": "code",
   "execution_count": 2,
   "id": "3082487b-79c1-4dd6-9d6a-12820bc282a6",
   "metadata": {
    "tags": []
   },
   "outputs": [],
   "source": [
    "def hello():\n",
    "    print('Hello, my friend!')"
   ]
  },
  {
   "cell_type": "code",
   "execution_count": 20,
   "id": "19fa24f3-65aa-4f6f-afb9-2cb4a7e7ed94",
   "metadata": {
    "tags": []
   },
   "outputs": [
    {
     "name": "stdout",
     "output_type": "stream",
     "text": [
      "Start function:  hello\n",
      "Hello, my friend\n",
      "Function:  <class 'function'>\n"
     ]
    }
   ],
   "source": [
    "ann(hello)"
   ]
  }
 ],
 "metadata": {
  "kernelspec": {
   "display_name": "Python 3 (ipykernel)",
   "language": "python",
   "name": "python3"
  },
  "language_info": {
   "codemirror_mode": {
    "name": "ipython",
    "version": 3
   },
   "file_extension": ".py",
   "mimetype": "text/x-python",
   "name": "python",
   "nbconvert_exporter": "python",
   "pygments_lexer": "ipython3",
   "version": "3.10.10"
  }
 },
 "nbformat": 4,
 "nbformat_minor": 5
}
