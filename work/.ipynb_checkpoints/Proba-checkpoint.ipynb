{
 "cells": [
  {
   "cell_type": "markdown",
   "id": "5c9d45cf-ebb4-40ec-a3de-ec0fe1fd962a",
   "metadata": {},
   "source": [
    "Проверка наличия библиотек"
   ]
  },
  {
   "cell_type": "code",
   "execution_count": 1,
   "id": "10487097-1f1e-4c4c-9350-68f2e159f89e",
   "metadata": {
    "tags": []
   },
   "outputs": [
    {
     "name": "stdout",
     "output_type": "stream",
     "text": [
      "Ok\n"
     ]
    }
   ],
   "source": [
    "import psycopg2\n",
    "from flask import Flask, render_template, request\n",
    "\n",
    "import json\n",
    "\n",
    "print ('Ok')"
   ]
  },
  {
   "cell_type": "code",
   "execution_count": 2,
   "id": "e673c992-819f-4b3c-b911-1bc9c2ae69ba",
   "metadata": {},
   "outputs": [],
   "source": [
    "from dataclasses import dataclass\n",
    "from pyspark.sql import SparkSession\n",
    "from sqlalchemy import create_engine, text\n",
    "import json\n",
    "import pathlib\n",
    "import pandas as pd"
   ]
  },
  {
   "cell_type": "markdown",
   "id": "f6021ea1-5688-49b5-9560-01a29f0d51b7",
   "metadata": {
    "tags": []
   },
   "source": [
    "Программа Primer - for Postgres"
   ]
  },
  {
   "cell_type": "code",
   "execution_count": 3,
   "id": "4022ecc8-e70a-49ac-a9e5-93ffcef110f1",
   "metadata": {},
   "outputs": [
    {
     "name": "stdout",
     "output_type": "stream",
     "text": [
      "Ok\n",
      "-------------------------\n",
      "[('Maria Anders',),\n",
      " ('Ana Trujillo',),\n",
      " ('Antonio Moreno',),\n",
      " ('Thomas Hardy',),\n",
      " ('Christina Berglund',),\n",
      " ('Hanna Moos',),\n",
      " ('Frédérique Citeaux',),\n",
      " ('Martín Sommer',),\n",
      " ('Laurence Lebihan',),\n",
      " ('Elizabeth Lincoln',)]\n",
      "-------------------------\n",
      "Finished\n"
     ]
    }
   ],
   "source": [
    "import psycopg2\n",
    "from pprint import pprint\n",
    "\n",
    "def connect(params_dic):\n",
    "    # NOTE подключение к серверу\n",
    "    conn = None\n",
    "    try:\n",
    "        conn = psycopg2.connect(**params_dic)\n",
    "    except (Exception, psycopg2.DatabaseError) as error:            \n",
    "        print(error)\n",
    "        exit(1)\n",
    "    return conn\n",
    "\n",
    "con = psycopg2.connect(\n",
    "    host=\"host.docker.internal\",\n",
    "    port='1111',\n",
    "    database=\"postgres\",\n",
    "    user=\"postgres\",\n",
    "    password=\"secret\") \n",
    "  \n",
    "  \n",
    "cur = con.cursor()\n",
    "print ('Ok')\n",
    "\n",
    "cur.execute(\"SELECT * FROM public.customers\")\n",
    "sql_data = cur.fetchall()\n",
    "print(\"-------------------------\")\n",
    "pprint(sql_data)\n",
    "print(\"-------------------------\")\n",
    "\n",
    "print ('Finished')\n",
    "\n",
    "con.commit()\n",
    "con.close()"
   ]
  },
  {
   "cell_type": "code",
   "execution_count": null,
   "id": "504d4eb3-62da-49ce-99d4-cb97f9cd9cd3",
   "metadata": {},
   "outputs": [],
   "source": []
  },
  {
   "cell_type": "code",
   "execution_count": 2,
   "id": "d629acb3-424a-4f8a-b1ae-b16764d1258e",
   "metadata": {
    "tags": []
   },
   "outputs": [
    {
     "name": "stdout",
     "output_type": "stream",
     "text": [
      "Connect\n",
      "(1, 'IPhone', 'Дорогой телефон', 105000)\n",
      "(2, 'Watch', 'Часы', 30000)\n",
      "(3, 'TV LG', 'Телевизор LG', 120000)\n",
      "Done\n"
     ]
    }
   ],
   "source": [
    "conn_gp_params = {\n",
    "  'host': 'host.docker.internal', # gp\n",
    "  'database': 'az',\n",
    "  'user': 'gpadmin',\n",
    "  'password': 'gpadmin',\n",
    "  'port': '54322' # 5432\n",
    "}\n",
    "\n",
    "con = psycopg2.connect(\n",
    "  host=\"host.docker.internal\", \n",
    "  port=\"54322\",\n",
    "  database=\"az\", \n",
    "  user=\"gpadmin\", \n",
    "  password=\"gpadmin\"\n",
    ")\n",
    "cur = con.cursor()\n",
    "print ('Connect')\n",
    "\n",
    "cur.execute(\"select * from dev.product;\")\n",
    "\n",
    "myrec = cur.fetchall()\n",
    "\n",
    "for a in myrec:\n",
    "  print(a)\n",
    "\n",
    "con.commit()\n",
    "con.close()\n",
    "print ('Done')"
   ]
  },
  {
   "cell_type": "code",
   "execution_count": 5,
   "id": "c3579ec8-9097-4c17-97aa-a644f803c0f3",
   "metadata": {
    "tags": []
   },
   "outputs": [
    {
     "name": "stdout",
     "output_type": "stream",
     "text": [
      "(10000,)\n",
      "(2, 1, 'txt 1', {'foo': 'bar 1'})\n",
      "(3, 2, 'txt 2', {'foo': 'bar 2'})\n",
      "(4, 3, 'txt 3', {'foo': 'bar 3'})\n",
      "(6, 5, 'txt 5', {'foo': 'bar 5'})\n",
      "(7, 6, 'txt 6', {'foo': 'bar 6'})\n",
      "(8, 7, 'txt 7', {'foo': 'bar 7'})\n",
      "(9, 8, 'txt 8', {'foo': 'bar 8'})\n",
      "(10, 9, 'txt 9', {'foo': 'bar 9'})\n",
      "(13, 12, 'txt 12', {'foo': 'bar 12'})\n",
      "(16, 15, 'txt 15', {'foo': 'bar 15'})\n",
      "(18, 17, 'txt 17', {'foo': 'bar 17'})\n",
      "(19, 18, 'txt 18', {'foo': 'bar 18'})\n",
      "(21, 20, 'txt 20', {'foo': 'bar 20'})\n",
      "(22, 21, 'txt 21', {'foo': 'bar 21'})\n",
      "(24, 23, 'txt 23', {'foo': 'bar 23'})\n",
      "(27, 26, 'txt 26', {'foo': 'bar 26'})\n",
      "(28, 27, 'txt 27', {'foo': 'bar 27'})\n",
      "(29, 28, 'txt 28', {'foo': 'bar 28'})\n",
      "(32, 31, 'txt 31', {'foo': 'bar 31'})\n",
      "(33, 32, 'txt 32', {'foo': 'bar 32'})\n",
      "Finished\n"
     ]
    }
   ],
   "source": [
    "con = psycopg2.connect(\n",
    "  host=\"host.docker.internal\", \n",
    "  port=\"54322\",\n",
    "  database=\"az\", \n",
    "  user=\"gpadmin\", \n",
    "  password=\"gpadmin\"\n",
    ")\n",
    "cur = con.cursor()\n",
    "cur.execute(\"CREATE TABLE IF NOT EXISTS test_1 (id serial PRIMARY KEY, num integer, data varchar, form_data jsonb);\")\n",
    "con.commit()\n",
    "\n",
    "def gen_records():\n",
    "    for row_idx in range(10_000):\n",
    "        yield (row_idx, 'txt ' + str(row_idx), json.dumps({\"foo\": \"bar \" + str(row_idx)}))\n",
    "\n",
    "for record in gen_records():\n",
    "    cur.execute(\"INSERT INTO test_1 (num, data, form_data) VALUES (%s, %s, %s)\", record)\n",
    "\n",
    "con.commit()\n",
    "cur.execute(\"SELECT count(*) FROM test_1;\")\n",
    "print(cur.fetchone())\n",
    "\n",
    "cur.execute(\"SELECT * FROM test_1 where 1=1 limit 20;\")\n",
    "myrec = cur.fetchall()\n",
    "\n",
    "for a in myrec:\n",
    "  print(a)\n",
    "cur.close()\n",
    "\n",
    "print ('Finished')"
   ]
  },
  {
   "cell_type": "code",
   "execution_count": 2,
   "id": "c5d4d59d-719a-423b-bd64-1479ca058790",
   "metadata": {
    "tags": []
   },
   "outputs": [
    {
     "name": "stdout",
     "output_type": "stream",
     "text": [
      "Ok\n",
      "-------------------------\n",
      "[('Start my training',),\n",
      " ('Ask chatGPT',),\n",
      " ('Делаю что-то',),\n",
      " ('Осознать результаты',),\n",
      " ('Make something as usual',)]\n",
      "-------------------------\n",
      "Finished\n"
     ]
    }
   ],
   "source": [
    "import psycopg2\n",
    "from pprint import pprint\n",
    "\n",
    "def connect(params_dic):\n",
    "    # NOTE подключение к серверу\n",
    "    conn = None\n",
    "    try:\n",
    "        conn = psycopg2.connect(**params_dic)\n",
    "    except (Exception, psycopg2.DatabaseError) as error:            \n",
    "        print(error)\n",
    "        exit(1)\n",
    "    return conn\n",
    "\n",
    "con = psycopg2.connect(\n",
    "    host=\"host.docker.internal\",\n",
    "    port='54321',\n",
    "    database=\"shop\",\n",
    "    user=\"postgres\",\n",
    "    password=\"Zadonsky1\") \n",
    "  \n",
    "  \n",
    "cur = con.cursor()\n",
    "print ('Ok')\n",
    "\n",
    "cur.execute(\"SELECT task FROM dev.app_tasks\")\n",
    "sql_data = cur.fetchall()\n",
    "print(\"-------------------------\")\n",
    "pprint(sql_data)\n",
    "print(\"-------------------------\")\n",
    "\n",
    "print ('Finished')\n",
    "\n",
    "con.commit()\n",
    "con.close()\n"
   ]
  }
 ],
 "metadata": {
  "kernelspec": {
   "display_name": "Python 3 (ipykernel)",
   "language": "python",
   "name": "python3"
  },
  "language_info": {
   "codemirror_mode": {
    "name": "ipython",
    "version": 3
   },
   "file_extension": ".py",
   "mimetype": "text/x-python",
   "name": "python",
   "nbconvert_exporter": "python",
   "pygments_lexer": "ipython3",
   "version": "3.11.4"
  }
 },
 "nbformat": 4,
 "nbformat_minor": 5
}
